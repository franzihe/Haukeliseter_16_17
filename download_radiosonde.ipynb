{
 "cells": [
  {
   "cell_type": "code",
   "execution_count": 1,
   "metadata": {},
   "outputs": [],
   "source": [
    "import sys\n",
    "sys.path.append('/home/franzihe/Documents/Python/Thesis/')\n",
    "\n",
    "import createFolder as cF\n",
    "\n",
    "import numpy as np\n",
    "np.warnings.filterwarnings('ignore')\n",
    "import urllib3\n",
    "from bs4 import BeautifulSoup\n"
   ]
  },
  {
   "cell_type": "code",
   "execution_count": 2,
   "metadata": {},
   "outputs": [],
   "source": [
    "stn = '01415' #1415 is ID for Stavanger\n",
    "\n",
    "\n",
    "cF.createFolder('/home/franzihe/Documents/Data/Sounding/{}'.format(stn)) # for text files"
   ]
  },
  {
   "cell_type": "code",
   "execution_count": 3,
   "metadata": {},
   "outputs": [],
   "source": [
    "m = ['12','01', '02']\n",
    "h = ['00', '12']"
   ]
  },
  {
   "cell_type": "code",
   "execution_count": 4,
   "metadata": {},
   "outputs": [
    {
     "name": "stdout",
     "output_type": "stream",
     "text": [
      "file written: /home/franzihe/Documents/Data/Sounding/01415/20161208_00.txt\n",
      "file written: /home/franzihe/Documents/Data/Sounding/01415/20161208_12.txt\n",
      "file written: /home/franzihe/Documents/Data/Sounding/01415/20161209_00.txt\n",
      "file written: /home/franzihe/Documents/Data/Sounding/01415/20161209_12.txt\n",
      "file written: /home/franzihe/Documents/Data/Sounding/01415/20161210_00.txt\n",
      "file written: /home/franzihe/Documents/Data/Sounding/01415/20161210_12.txt\n",
      "file written: /home/franzihe/Documents/Data/Sounding/01415/20161212_00.txt\n",
      "file written: /home/franzihe/Documents/Data/Sounding/01415/20161212_12.txt\n",
      "file written: /home/franzihe/Documents/Data/Sounding/01415/20161215_00.txt\n",
      "file written: /home/franzihe/Documents/Data/Sounding/01415/20161215_12.txt\n",
      "file written: /home/franzihe/Documents/Data/Sounding/01415/20161220_00.txt\n",
      "file written: /home/franzihe/Documents/Data/Sounding/01415/20161220_12.txt\n",
      "file written: /home/franzihe/Documents/Data/Sounding/01415/20161221_00.txt\n",
      "file written: /home/franzihe/Documents/Data/Sounding/01415/20161221_12.txt\n",
      "file written: /home/franzihe/Documents/Data/Sounding/01415/20161222_00.txt\n",
      "file written: /home/franzihe/Documents/Data/Sounding/01415/20161222_12.txt\n",
      "file written: /home/franzihe/Documents/Data/Sounding/01415/20161223_00.txt\n",
      "file written: /home/franzihe/Documents/Data/Sounding/01415/20161223_12.txt\n",
      "file written: /home/franzihe/Documents/Data/Sounding/01415/20161224_00.txt\n",
      "file written: /home/franzihe/Documents/Data/Sounding/01415/20161224_12.txt\n",
      "file written: /home/franzihe/Documents/Data/Sounding/01415/20161225_00.txt\n",
      "file written: /home/franzihe/Documents/Data/Sounding/01415/20161225_12.txt\n",
      "file written: /home/franzihe/Documents/Data/Sounding/01415/20161226_00.txt\n",
      "file written: /home/franzihe/Documents/Data/Sounding/01415/20161226_12.txt\n",
      "file written: /home/franzihe/Documents/Data/Sounding/01415/20161229_00.txt\n",
      "file written: /home/franzihe/Documents/Data/Sounding/01415/20161229_12.txt\n",
      "file written: /home/franzihe/Documents/Data/Sounding/01415/20161231_00.txt\n",
      "file written: /home/franzihe/Documents/Data/Sounding/01415/20161231_12.txt\n",
      "file written: /home/franzihe/Documents/Data/Sounding/01415/20170102_00.txt\n",
      "file written: /home/franzihe/Documents/Data/Sounding/01415/20170102_12.txt\n",
      "file written: /home/franzihe/Documents/Data/Sounding/01415/20170103_00.txt\n",
      "file written: /home/franzihe/Documents/Data/Sounding/01415/20170103_12.txt\n",
      "file written: /home/franzihe/Documents/Data/Sounding/01415/20170105_00.txt\n",
      "file written: /home/franzihe/Documents/Data/Sounding/01415/20170105_12.txt\n",
      "file written: /home/franzihe/Documents/Data/Sounding/01415/20170106_00.txt\n",
      "file written: /home/franzihe/Documents/Data/Sounding/01415/20170106_12.txt\n",
      "file written: /home/franzihe/Documents/Data/Sounding/01415/20170108_00.txt\n",
      "file written: /home/franzihe/Documents/Data/Sounding/01415/20170108_12.txt\n",
      "file written: /home/franzihe/Documents/Data/Sounding/01415/20170109_00.txt\n",
      "file written: /home/franzihe/Documents/Data/Sounding/01415/20170109_12.txt\n",
      "file written: /home/franzihe/Documents/Data/Sounding/01415/20170110_00.txt\n",
      "file written: /home/franzihe/Documents/Data/Sounding/01415/20170110_12.txt\n",
      "file written: /home/franzihe/Documents/Data/Sounding/01415/20170111_00.txt\n",
      "file written: /home/franzihe/Documents/Data/Sounding/01415/20170111_12.txt\n",
      "file written: /home/franzihe/Documents/Data/Sounding/01415/20170112_00.txt\n",
      "file written: /home/franzihe/Documents/Data/Sounding/01415/20170112_12.txt\n",
      "file written: /home/franzihe/Documents/Data/Sounding/01415/20170128_00.txt\n",
      "file written: /home/franzihe/Documents/Data/Sounding/01415/20170128_12.txt\n",
      "file written: /home/franzihe/Documents/Data/Sounding/01415/20170202_00.txt\n",
      "file written: /home/franzihe/Documents/Data/Sounding/01415/20170202_12.txt\n",
      "file written: /home/franzihe/Documents/Data/Sounding/01415/20170203_00.txt\n",
      "file written: /home/franzihe/Documents/Data/Sounding/01415/20170203_12.txt\n",
      "file written: /home/franzihe/Documents/Data/Sounding/01415/20170204_00.txt\n",
      "file written: /home/franzihe/Documents/Data/Sounding/01415/20170204_12.txt\n"
     ]
    }
   ],
   "source": [
    "for month in m:\n",
    "    if month == '12':\n",
    "        t = np.array([8, 9, 10, 12, 15, 20, 21, 22, 23, 24, 25, 26, 29, 31])\n",
    "    if month == '01':\n",
    "        t = np.array([2, 3, 5, 6, 8, 9, 10, 11, 12, 28])\n",
    "    if month == '02':\n",
    "        t = np.array([2, 3, 4])    \n",
    "    if month == '12':\n",
    "        year = '2016'\n",
    "    if month == '01' or month == '02':\n",
    "        year = '2017'\n",
    "    for day in t:\n",
    "        if day < 10:\n",
    "            day = '0%s' %day\n",
    "        \n",
    "        for hour in h:\n",
    "            \n",
    "\n",
    "            # 1) \n",
    "            # Wyoming URL to download Sounding from\n",
    "            url = 'http://weather.uwyo.edu/cgi-bin/sounding?region=naconf&TYPE=TEXT%3ALIST&YEAR='+year+'&MONTH='+month+'&FROM='+str(day)+hour+'&TO='+str(day)+hour+'&STNM='+stn\n",
    "\n",
    "\n",
    "            #2)\n",
    "            # Remove the html tags\n",
    "            http = urllib3.PoolManager()\n",
    "            response = http.request('GET', url)\n",
    "            soup = BeautifulSoup(response.data.decode('utf-8'),'lxml')\n",
    "            data_text = soup.get_text()\n",
    "\n",
    "            # 3)\n",
    "            # Split the content by new line.\n",
    "            splitted = data_text.split(\"\\n\",data_text.count(\"\\n\"))\n",
    "\n",
    "\n",
    "            # 4)\n",
    "            # Write this splitted text to a .txt document\n",
    "            Sounding_filename = '/home/franzihe/Documents/Data/Sounding/{}/{}{}{}_{}.txt'.format(stn,year,month,day,hour)\n",
    "            f = open(Sounding_filename,'w')\n",
    "            for line in splitted[4:]:\n",
    "                f.write(line+'\\n')\n",
    "            f.close()\n",
    "            \n",
    "            print('file written: {}'.format(Sounding_filename))"
   ]
  },
  {
   "cell_type": "code",
   "execution_count": null,
   "metadata": {},
   "outputs": [],
   "source": []
  }
 ],
 "metadata": {
  "kernelspec": {
   "display_name": "Python 3",
   "language": "python",
   "name": "python3"
  },
  "language_info": {
   "codemirror_mode": {
    "name": "ipython",
    "version": 3
   },
   "file_extension": ".py",
   "mimetype": "text/x-python",
   "name": "python",
   "nbconvert_exporter": "python",
   "pygments_lexer": "ipython3",
   "version": "3.7.6"
  }
 },
 "nbformat": 4,
 "nbformat_minor": 4
}
