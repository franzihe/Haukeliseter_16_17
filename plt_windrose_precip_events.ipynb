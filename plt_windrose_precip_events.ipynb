{
 "cells": [
  {
   "cell_type": "markdown",
   "metadata": {},
   "source": [
    "# Plot the wind direction during precipitation events\n",
    "- from Eklima and the \n",
    "- minuetly observations"
   ]
  },
  {
   "cell_type": "code",
   "execution_count": 1,
   "metadata": {},
   "outputs": [
    {
     "name": "stderr",
     "output_type": "stream",
     "text": [
      "/home/franzihe/anaconda3/envs/haukeli/lib/python3.7/site-packages/windrose/windrose.py:29: MatplotlibDeprecationWarning: \n",
      "The Appender class was deprecated in Matplotlib 3.1 and will be removed in 3.3.\n",
      "  addendum = docstring.Appender(msg, \"\\n\\n\")\n",
      "/home/franzihe/anaconda3/envs/haukeli/lib/python3.7/site-packages/windrose/windrose.py:30: MatplotlibDeprecationWarning: \n",
      "The copy_dedent function was deprecated in Matplotlib 3.1 and will be removed in 3.3. Use docstring.copy() and cbook.dedent() instead.\n",
      "  return lambda func: addendum(docstring.copy_dedent(base)(func))\n",
      "/home/franzihe/anaconda3/envs/haukeli/lib/python3.7/site-packages/windrose/windrose.py:30: MatplotlibDeprecationWarning: \n",
      "The dedent function was deprecated in Matplotlib 3.1 and will be removed in 3.3. Use inspect.getdoc() instead.\n",
      "  return lambda func: addendum(docstring.copy_dedent(base)(func))\n",
      "/home/franzihe/anaconda3/envs/haukeli/lib/python3.7/site-packages/windrose/windrose.py:30: MatplotlibDeprecationWarning: \n",
      "The dedent function was deprecated in Matplotlib 3.1 and will be removed in 3.3. Use inspect.cleandoc instead.\n",
      "  return lambda func: addendum(docstring.copy_dedent(base)(func))\n"
     ]
    }
   ],
   "source": [
    "import numpy as np\n",
    "import netCDF4\n",
    "\n",
    "import sys\n",
    "from windrose import WindroseAxes\n",
    "#sys.path.append('/uio/kant/geo-metos-u7/franzihe/Documents/Thesis/Python/')\n",
    "sys.path.append('/home/franzihe/Documents/Python/Thesis')\n",
    "import createFolder as cF\n",
    "import matplotlib.pyplot as plt\n",
    "import seaborn as sns\n",
    "\n",
    "\n",
    "np.warnings.filterwarnings('ignore')\n",
    "\n",
    "#%matplotlib inline"
   ]
  },
  {
   "cell_type": "code",
   "execution_count": 2,
   "metadata": {},
   "outputs": [],
   "source": [
    "# plot cosmetics\n",
    "sns.set_context('paper')\n",
    "\n",
    "sns.set(font = 'Serif', font_scale = 1.2, )\n",
    "sns.set_style('ticks',\n",
    "                  {'font.family':'serif', #'font.serif':'Helvetica'\n",
    "                   'grid.linestyle': '--'           \n",
    "                  },\n",
    "                   )"
   ]
  },
  {
   "cell_type": "code",
   "execution_count": 3,
   "metadata": {},
   "outputs": [],
   "source": [
    "station = 'Haukeliseter'"
   ]
  },
  {
   "cell_type": "code",
   "execution_count": 4,
   "metadata": {},
   "outputs": [],
   "source": [
    "savefig = 0\n",
    "\n",
    "if savefig == 1:\n",
    "    figdir = '../../../Figures/Weathermast_MEPS_Retrieval/%s/CTRL_XCCR/' %(station)\n",
    "    cF.createFolder('%s/' %figdir)\n",
    "    form = 'png'\n"
   ]
  },
  {
   "cell_type": "code",
   "execution_count": null,
   "metadata": {},
   "outputs": [],
   "source": []
  },
  {
   "cell_type": "code",
   "execution_count": 5,
   "metadata": {},
   "outputs": [],
   "source": [
    "m = ['12', '01', '02']\n",
    "meps_run = ['CTRL', 'XCCR']"
   ]
  },
  {
   "cell_type": "code",
   "execution_count": 6,
   "metadata": {},
   "outputs": [],
   "source": [
    "fn = dict()\n",
    "obs_wind_dir = dict()\n",
    "obs_wind_speed = dict()\n",
    "\n",
    "meps_wind_dir = dict()\n",
    "meps_wind_speed = dict()\n",
    "\n",
    "ret_wind_dir = dict()\n",
    "ret_wind_speed = dict()"
   ]
  },
  {
   "cell_type": "code",
   "execution_count": 7,
   "metadata": {},
   "outputs": [
    {
     "name": "stdout",
     "output_type": "stream",
     "text": [
      "20161216 CTRL no valid data\n",
      "20161217 CTRL no valid data\n",
      "20161218 CTRL no valid data\n",
      "20170129 CTRL no valid data\n",
      "20170130 CTRL no valid data\n",
      "20170131 CTRL no valid data\n",
      "20170207 CTRL no valid data\n",
      "20170208 CTRL no valid data\n",
      "20170209 CTRL no valid data\n",
      "20170210 CTRL no valid data\n",
      "20170211 CTRL no valid data\n",
      "20170212 CTRL no valid data\n",
      "20170213 CTRL no valid data\n",
      "20170214 CTRL no valid data\n",
      "20170215 CTRL no valid data\n",
      "20170216 CTRL no valid data\n",
      "20170217 CTRL no valid data\n",
      "20170218 CTRL no valid data\n",
      "20170219 CTRL no valid data\n",
      "20170220 CTRL no valid data\n",
      "20170221 CTRL no valid data\n",
      "20170222 CTRL no valid data\n",
      "20170223 CTRL no valid data\n",
      "20170224 CTRL no valid data\n",
      "20170225 CTRL no valid data\n",
      "20170226 CTRL no valid data\n",
      "20170227 CTRL no valid data\n",
      "20170228 CTRL no valid data\n",
      "20161216 XCCR no valid data\n",
      "20161217 XCCR no valid data\n",
      "20161218 XCCR no valid data\n",
      "20170129 XCCR no valid data\n",
      "20170130 XCCR no valid data\n",
      "20170131 XCCR no valid data\n",
      "20170207 XCCR no valid data\n",
      "20170208 XCCR no valid data\n",
      "20170209 XCCR no valid data\n",
      "20170210 XCCR no valid data\n",
      "20170211 XCCR no valid data\n",
      "20170212 XCCR no valid data\n",
      "20170213 XCCR no valid data\n",
      "20170214 XCCR no valid data\n",
      "20170215 XCCR no valid data\n",
      "20170216 XCCR no valid data\n",
      "20170217 XCCR no valid data\n",
      "20170218 XCCR no valid data\n",
      "20170219 XCCR no valid data\n",
      "20170220 XCCR no valid data\n",
      "20170221 XCCR no valid data\n",
      "20170222 XCCR no valid data\n",
      "20170223 XCCR no valid data\n",
      "20170224 XCCR no valid data\n",
      "20170225 XCCR no valid data\n",
      "20170226 XCCR no valid data\n",
      "20170227 XCCR no valid data\n",
      "20170228 XCCR no valid data\n"
     ]
    }
   ],
   "source": [
    "for meps in meps_run:\n",
    "    nc_dir = '../../../Data/Weathermast_MEPS_Retrieval/%s/%s/' %(station,meps)\n",
    "    meps_wind_dir[meps]   = dict()\n",
    "    meps_wind_speed[meps] = dict()\n",
    "    \n",
    "    for month in m:\n",
    "\n",
    "        if month == '12' or  month == '01':\n",
    "            t = np.arange(1,32)\n",
    "        if month == '02':\n",
    "            t = np.arange(1,29)\n",
    "        if month == '11' or month == '12':\n",
    "            year = '2016'\n",
    "        if month == '01' or month == '02' or month == '03':\n",
    "            year = '2017'\n",
    "\n",
    "        for day in t:\n",
    "\n",
    "            if day < 10:\n",
    "                day = '0%s' %day\n",
    "            else:\n",
    "                day = '%s' %day\n",
    "\n",
    "\n",
    "            Date = int(year+month+day)\n",
    "\n",
    "            fn[Date] = netCDF4.Dataset(nc_dir+'/weathermast_meps_retrieval_%s_12.nc' %(Date), 'r')\n",
    "            if len(fn[Date].variables) == 0:\n",
    "                print(Date, meps, 'no valid data')\n",
    "            else:\n",
    "                if np.nansum(fn[Date].variables['obs_precipitation_difference_2degC']) >= 0.25 \\\n",
    "                and np.nansum(fn[Date].variables['meps_precipitation_difference_2degC']) >= 0.25 \\\n",
    "                and np.nansum(fn[Date].variables['ret_precipitation_difference']) >= 0.25:# \\\n",
    "              #  and ~np.isnan(fn[Date].variables['SWC'][:]).any() == False\n",
    "                    #print(Date)\n",
    "                    obs_wind_dir[Date] = fn[Date].variables['obs_wind_direction'][:]\n",
    "                    obs_wind_speed[Date] = fn[Date].variables['obs_wind_speed'][:]\n",
    "\n",
    "                    ret_wind_dir[Date] = fn[Date].variables['obs_wind_direction'][:]\n",
    "                    ret_wind_speed[Date] = fn[Date].variables['obs_wind_speed'][:]\n",
    "\n",
    "                    meps_wind_dir[meps][Date] = fn[Date].variables['meps_wind_direction'][:]\n",
    "                    meps_wind_speed[meps][Date] = fn[Date].variables['meps_wind_speed'][:]\n",
    "\n",
    "            fn[Date].close()"
   ]
  },
  {
   "cell_type": "code",
   "execution_count": 8,
   "metadata": {},
   "outputs": [],
   "source": [
    "obs_ws = (list(obs_wind_speed.values()))\n",
    "obs_wd = (list(obs_wind_dir.values()))"
   ]
  },
  {
   "cell_type": "code",
   "execution_count": 9,
   "metadata": {},
   "outputs": [],
   "source": [
    "ret_ws = (list(ret_wind_speed.values()))\n",
    "ret_wd = (list(ret_wind_dir.values()))"
   ]
  },
  {
   "cell_type": "code",
   "execution_count": 10,
   "metadata": {},
   "outputs": [],
   "source": [
    "meps_ws = dict()\n",
    "meps_wd = dict()\n",
    "\n",
    "meps_WS = dict()\n",
    "meps_WD = dict()"
   ]
  },
  {
   "cell_type": "code",
   "execution_count": 11,
   "metadata": {},
   "outputs": [],
   "source": [
    "for meps in meps_run:\n",
    "    meps_ws[meps] = (list(meps_wind_speed[meps].values()))\n",
    "    meps_wd[meps] = (list(meps_wind_dir[meps].values()))\n",
    "\n",
    "    meps_WS[meps] = np.array(meps_ws[meps])[:,:]\n",
    "    meps_WD[meps] = np.array(meps_wd[meps])[:,:]"
   ]
  },
  {
   "cell_type": "code",
   "execution_count": 12,
   "metadata": {
    "scrolled": true
   },
   "outputs": [],
   "source": [
    "obs_WD = np.empty(shape=(np.array(obs_wd).shape[0],1440))\n",
    "obs_WD[:] =  np.nan\n",
    "\n",
    "obs_WS = np.empty(shape=(np.array(obs_wd).shape[0],1440))\n",
    "obs_WS[:] =  np.nan\n",
    "for i in range(np.array(obs_wd).shape[0]):\n",
    " #   print(np.array(obs_wd[i]).shape)\n",
    "    if np.array(obs_wd[i]).shape[0] == 24:\n",
    "    #    print(np.array(obs_wd[i]).shape, i)\n",
    "        for k in range(np.array(obs_wd[i]).shape[0]):\n",
    "            obs_WD[i,k*60] = obs_wd[i][k]\n",
    "            obs_WS[i,k*60] = obs_ws[i][k]\n",
    "    else:\n",
    "        obs_WD[i,:] = obs_wd[i][:]\n",
    "        obs_WS[i,:] = obs_ws[i][:]"
   ]
  },
  {
   "cell_type": "code",
   "execution_count": 13,
   "metadata": {},
   "outputs": [],
   "source": [
    "ret_WD = np.empty(shape=(np.array(ret_wd).shape[0],1440))\n",
    "ret_WD[:] =  np.nan\n",
    "\n",
    "ret_WS = np.empty(shape=(np.array(obs_wd).shape[0],1440))\n",
    "ret_WS[:] =  np.nan\n",
    "for i in range(np.array(ret_wd).shape[0]):\n",
    " #   print(np.array(obs_wd[i]).shape)\n",
    "    if np.array(ret_wd[i]).shape[0] == 24:\n",
    "    #    print(np.array(obs_wd[i]).shape, i)\n",
    "        for k in range(np.array(ret_wd[i]).shape[0]):\n",
    "            ret_WD[i,k*60] = ret_wd[i][k]\n",
    "            ret_WS[i,k*60] = ret_ws[i][k]\n",
    "    else:\n",
    "        ret_WD[i,:] = ret_wd[i][:]\n",
    "        ret_WS[i,:] = ret_ws[i][:]"
   ]
  },
  {
   "cell_type": "code",
   "execution_count": null,
   "metadata": {},
   "outputs": [],
   "source": []
  },
  {
   "cell_type": "code",
   "execution_count": null,
   "metadata": {},
   "outputs": [],
   "source": []
  },
  {
   "cell_type": "code",
   "execution_count": 14,
   "metadata": {},
   "outputs": [],
   "source": [
    "def plt_windrose( WD, WS, source):\n",
    "    \n",
    "    ax = WindroseAxes.from_ax()\n",
    "    ax.bar( WD, WS,\n",
    "           normed = True, opening = 0.8, edgecolor = 'white', cmap = plt.get_cmap('hot'),\n",
    "           bins = np.arange(0,28,4), alpha = 0.6)\n",
    "    ax._info['bins']\n",
    "    ax.set_legend()\n",
    "    ax.legend(title = 'Wind$_{10m}$ [m s$^{-1}$]',)\n",
    "    ax.set_yticks(np.arange(3, 27, step=3))\n",
    "    ax.set_yticklabels(np.arange(3, 27, step=3))\n",
    "    ax.set_title('24h precip $\\geq$ 0.25mm', y=1.08,)\n",
    "\n",
    "    \n",
    "    ax.text(0.1, 1.1, '%s' %(source),\n",
    "         verticalalignment='center', horizontalalignment='center',\n",
    "         transform=ax.transAxes,\n",
    "         color = 'black', fontweight = 'bold', bbox={'facecolor': 'grey', 'alpha': 0.5, 'pad': 5.5})"
   ]
  },
  {
   "cell_type": "markdown",
   "metadata": {},
   "source": [
    "## Double fence"
   ]
  },
  {
   "cell_type": "code",
   "execution_count": 15,
   "metadata": {},
   "outputs": [
    {
     "name": "stdout",
     "output_type": "stream",
     "text": [
      "plot saved: ../../../Figures/Weathermast_MEPS_Retrieval/Haukeliseter/CTRL_XCCR//winter_2016_2017_windrose_obs.png\n"
     ]
    }
   ],
   "source": [
    "plt_windrose( obs_WD[~np.isnan(obs_WD[:,:])], obs_WS[~np.isnan(obs_WD[:,:])], 'Observations')\n",
    "\n",
    "if savefig == 1:\n",
    "    fig_name = 'winter_2016_2017_windrose_obs.%s' %(form)\n",
    "    plt.savefig('%s/%s' % (figdir, fig_name), format = form, bbox_inches='tight', transparent=True)\n",
    "    print('plot saved: %s/%s' %(figdir,fig_name))\n",
    "    plt.close()"
   ]
  },
  {
   "cell_type": "markdown",
   "metadata": {},
   "source": [
    "## Retrieval"
   ]
  },
  {
   "cell_type": "code",
   "execution_count": null,
   "metadata": {},
   "outputs": [],
   "source": []
  },
  {
   "cell_type": "code",
   "execution_count": 16,
   "metadata": {},
   "outputs": [
    {
     "name": "stdout",
     "output_type": "stream",
     "text": [
      "plot saved: ../../../Figures/Weathermast_MEPS_Retrieval/Haukeliseter/CTRL_XCCR//winter_2016_2017_windrose_ret.png\n"
     ]
    }
   ],
   "source": [
    "plt_windrose( ret_WD[~np.isnan(ret_WD[:,:])], ret_WS[~np.isnan(ret_WD[:,:])], 'Retrieval')\n",
    "\n",
    "if savefig == 1:\n",
    "    fig_name = 'winter_2016_2017_windrose_ret.%s' %(form)\n",
    "    plt.savefig('%s/%s' % (figdir, fig_name), format = form, bbox_inches='tight', transparent=True)\n",
    "    print('plot saved: %s/%s' %(figdir,fig_name))\n",
    "    plt.close()"
   ]
  },
  {
   "cell_type": "markdown",
   "metadata": {},
   "source": [
    "## MEPS"
   ]
  },
  {
   "cell_type": "code",
   "execution_count": 17,
   "metadata": {},
   "outputs": [
    {
     "name": "stdout",
     "output_type": "stream",
     "text": [
      "plot saved: ../../../Figures/Weathermast_MEPS_Retrieval/Haukeliseter/CTRL_XCCR//winter_2016_2017_windrose_CTRL.png\n",
      "plot saved: ../../../Figures/Weathermast_MEPS_Retrieval/Haukeliseter/CTRL_XCCR//winter_2016_2017_windrose_XCCR.png\n"
     ]
    }
   ],
   "source": [
    "for meps in meps_run:\n",
    "    plt_windrose( meps_WD[meps][~np.isnan(meps_WD[meps][:,:])], meps_WS[meps][~np.isnan(meps_WD[meps][:,:])], 'MEPS - %s' %meps)\n",
    "\n",
    "\n",
    "    if savefig == 1:\n",
    "        fig_name = 'winter_2016_2017_windrose_%s.%s' %(meps,form)\n",
    "        plt.savefig('%s/%s' % (figdir, fig_name), format = form, bbox_inches='tight', transparent=True)\n",
    "        print('plot saved: %s/%s' %(figdir,fig_name))\n",
    "        plt.close()"
   ]
  },
  {
   "cell_type": "code",
   "execution_count": null,
   "metadata": {},
   "outputs": [],
   "source": []
  },
  {
   "cell_type": "code",
   "execution_count": null,
   "metadata": {},
   "outputs": [],
   "source": []
  },
  {
   "cell_type": "code",
   "execution_count": null,
   "metadata": {},
   "outputs": [],
   "source": []
  }
 ],
 "metadata": {
  "kernelspec": {
   "display_name": "Python 3",
   "language": "python",
   "name": "python3"
  },
  "language_info": {
   "codemirror_mode": {
    "name": "ipython",
    "version": 3
   },
   "file_extension": ".py",
   "mimetype": "text/x-python",
   "name": "python",
   "nbconvert_exporter": "python",
   "pygments_lexer": "ipython3",
   "version": "3.7.6"
  }
 },
 "nbformat": 4,
 "nbformat_minor": 4
}
